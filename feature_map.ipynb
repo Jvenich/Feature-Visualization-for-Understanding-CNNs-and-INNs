{
 "cells": [
  {
   "cell_type": "code",
   "execution_count": 3,
   "metadata": {},
   "outputs": [],
   "source": [
    "import numpy as np"
   ]
  },
  {
   "cell_type": "code",
   "execution_count": 1,
   "metadata": {},
   "outputs": [],
   "source": [
    "%matplotlib inline\n",
    "%reload_ext autoreload\n",
    "%autoreload 2"
   ]
  },
  {
   "cell_type": "code",
   "execution_count": 9,
   "metadata": {},
   "outputs": [
    {
     "name": "stdout",
     "output_type": "stream",
     "text": [
      "Collecting package metadata: done\n",
      "Solving environment: | \n",
      "The environment is inconsistent, please check the package plan carefully\n",
      "The following packages are causing the inconsistency:\n",
      "\n",
      "  - defaults/osx-64::dask==0.19.1=py37_0\n",
      "  - defaults/osx-64::anaconda==5.3.0=py37_0\n",
      "  - defaults/osx-64::mkl_fft==1.0.4=py37h5d10147_1\n",
      "  - defaults/osx-64::scikit-learn==0.19.2=py37h4f467ca_0\n",
      "  - defaults/osx-64::bottleneck==1.2.1=py37h1d22016_1\n",
      "  - defaults/osx-64::h5py==2.8.0=py37h878fce3_3\n",
      "  - defaults/osx-64::statsmodels==0.9.0=py37h1d22016_0\n",
      "  - defaults/osx-64::pytest-arraydiff==0.2=py37h39e3cac_0\n",
      "  - defaults/osx-64::scipy==1.1.0=py37h28f7352_1\n",
      "  - defaults/osx-64::bkcharts==0.2=py37_0\n",
      "  - defaults/osx-64::pywavelets==1.0.0=py37h1d22016_0\n",
      "  - defaults/osx-64::patsy==0.5.0=py37_0\n",
      "  - defaults/osx-64::imageio==2.4.1=py37_0\n",
      "  - defaults/osx-64::mkl_random==1.0.1=py37h5d10147_1\n",
      "  - defaults/osx-64::numpy-base==1.15.1=py37h8a80b8c_0\n",
      "  - defaults/osx-64::numba==0.39.0=py37h6440ff4_0\n",
      "  - defaults/osx-64::odo==0.5.1=py37_0\n",
      "  - defaults/osx-64::pytables==3.4.4=py37h13cba08_0\n",
      "  - defaults/osx-64::datashape==0.5.4=py37_1\n",
      "  - defaults/osx-64::seaborn==0.9.0=py37_0\n",
      "  - defaults/osx-64::scikit-image==0.14.0=py37h0a44026_1\n",
      "  - defaults/osx-64::bokeh==0.13.0=py37_0\n",
      "  - defaults/osx-64::numexpr==2.6.8=py37h1dc9127_0\n",
      "  - defaults/osx-64::pandas==0.23.4=py37h6440ff4_0\n",
      "  - defaults/osx-64::pytest-doctestplus==0.1.3=py37_0\n",
      "  - defaults/osx-64::astropy==3.0.4=py37h1de35cc_0\n",
      "  - defaults/osx-64::mkl-service==1.1.2=py37h6b9c3cc_5\n",
      "  - defaults/osx-64::blaze==0.11.3=py37_0\n",
      "  - defaults/osx-64::pytest-astropy==0.4.0=py37_0\n",
      "done\n",
      "\n",
      "## Package Plan ##\n",
      "\n",
      "  environment location: /Users/yuliavenichenko/anaconda3\n",
      "\n",
      "  added / updated specs:\n",
      "    - bcolz\n",
      "\n",
      "\n",
      "The following packages will be downloaded:\n",
      "\n",
      "    package                    |            build\n",
      "    ---------------------------|-----------------\n",
      "    bcolz-1.2.1                |   py36h6440ff4_0         706 KB\n",
      "    bokeh-1.2.0                |           py36_0         3.9 MB\n",
      "    ca-certificates-2019.5.15  |                0         133 KB\n",
      "    certifi-2019.6.16          |           py36_0         154 KB\n",
      "    conda-4.7.5                |           py36_0         3.0 MB\n",
      "    conda-package-handling-1.3.10|           py36_0         259 KB\n",
      "    dask-1.1.4                 |           py36_1          10 KB\n",
      "    mkl-2018.0.3               |                1       149.2 MB\n",
      "    numexpr-2.6.8              |   py36h1dc9127_0         126 KB\n",
      "    openssl-1.1.1c             |       h1de35cc_1         3.4 MB\n",
      "    pandas-0.24.2              |   py36h0a44026_0        10.1 MB\n",
      "    pytables-3.4.4             |   py36h13cba08_0         1.4 MB\n",
      "    ------------------------------------------------------------\n",
      "                                           Total:       172.3 MB\n",
      "\n",
      "The following NEW packages will be INSTALLED:\n",
      "\n",
      "  bcolz              pkgs/main/osx-64::bcolz-1.2.1-py36h6440ff4_0\n",
      "  conda-package-han~ pkgs/main/osx-64::conda-package-handling-1.3.10-py36_0\n",
      "\n",
      "The following packages will be UPDATED:\n",
      "\n",
      "  bokeh                                       0.13.0-py37_0 --> 1.2.0-py36_0\n",
      "  ca-certificates                               2019.1.23-0 --> 2019.5.15-0\n",
      "  certifi                                   2019.3.9-py36_0 --> 2019.6.16-py36_0\n",
      "  conda                                       4.6.14-py36_0 --> 4.7.5-py36_0\n",
      "  dask                                        0.19.1-py37_0 --> 1.1.4-py36_1\n",
      "  openssl                                 1.1.1b-h1de35cc_1 --> 1.1.1c-h1de35cc_1\n",
      "  pandas                              0.23.4-py37h6440ff4_0 --> 0.24.2-py36h0a44026_0\n",
      "\n",
      "The following packages will be DOWNGRADED:\n",
      "\n",
      "  mkl                                            2019.0-118 --> 2018.0.3-1\n",
      "  numexpr                              2.6.8-py37h1dc9127_0 --> 2.6.8-py36h1dc9127_0\n",
      "  pytables                             3.4.4-py37h13cba08_0 --> 3.4.4-py36h13cba08_0\n",
      "\n",
      "\n",
      "\n",
      "Downloading and Extracting Packages\n",
      "mkl-2018.0.3         | 149.2 MB  | ##################################### | 100% \n",
      "conda-package-handli | 259 KB    | ##################################### | 100% \n",
      "pytables-3.4.4       | 1.4 MB    | ##################################### | 100% \n",
      "dask-1.1.4           | 10 KB     | ##################################### | 100% \n",
      "conda-4.7.5          | 3.0 MB    | ##################################### | 100% \n",
      "numexpr-2.6.8        | 126 KB    | ##################################### | 100% \n",
      "bokeh-1.2.0          | 3.9 MB    | ##################################### | 100% \n",
      "certifi-2019.6.16    | 154 KB    | ##################################### | 100% \n",
      "ca-certificates-2019 | 133 KB    | ##################################### | 100% \n",
      "pandas-0.24.2        | 10.1 MB   | ##################################### | 100% \n",
      "openssl-1.1.1c       | 3.4 MB    | ##################################### | 100% \n",
      "bcolz-1.2.1          | 706 KB    | ##################################### | 100% \n",
      "Preparing transaction: done\n",
      "Verifying transaction: done\n",
      "Executing transaction: done\n",
      "\n",
      "Note: you may need to restart the kernel to use updated packages.\n"
     ]
    }
   ],
   "source": [
    "conda install bcolz"
   ]
  },
  {
   "cell_type": "code",
   "execution_count": 2,
   "metadata": {},
   "outputs": [],
   "source": [
    "!pip install -q fastai==0.7.0 torchtext==0.2.3"
   ]
  },
  {
   "cell_type": "code",
   "execution_count": null,
   "metadata": {},
   "outputs": [],
   "source": []
  },
  {
   "cell_type": "code",
   "execution_count": 3,
   "metadata": {},
   "outputs": [],
   "source": [
    "from fastai.conv_learner import *\n",
    "from cv2 import resize\n",
    "import matplotlib.gridspec as gridspec\n",
    "from math import ceil\n",
    "from IPython.display import HTML\n",
    "from pdb import set_trace\n",
    "# from scipy import ndimage"
   ]
  },
  {
   "cell_type": "code",
   "execution_count": 4,
   "metadata": {},
   "outputs": [],
   "source": [
    "class SaveFeatures():\n",
    "    def __init__(self, module):\n",
    "        self.hook = module.register_forward_hook(self.hook_fn)\n",
    "    def hook_fn(self, module, input, output):\n",
    "        self.features = output\n",
    "    def close(self):\n",
    "        self.hook.remove()"
   ]
  },
  {
   "cell_type": "code",
   "execution_count": 7,
   "metadata": {},
   "outputs": [],
   "source": [
    "class FilterVisualizer():\n",
    "    def __init__(self):\n",
    "        #########################\n",
    "        #self.model = vgg16(True).cuda().eval()\n",
    "        self.model = vgg16(True).eval()\n",
    "        set_trainable(self.model, False)\n",
    "\n",
    "    def visualize(self, sz, layer, filter, upscaling_steps=12, upscaling_factor=1.2, lr=0.1, opt_steps=20, blur=None, save=False, print_losses=False):\n",
    "\n",
    "        img = (np.random.random((sz, sz, 3)) * 20 + 128.)/255.\n",
    "#         img = np.random.uniform(0, 1, size=(sz, sz, 3)).astype(np.float32)\n",
    "#         median_filter_size = 4 if sz < 100 else 8\n",
    "#         img = scipy.ndimage.filters.median_filter(img, [median_filter_size,median_filter_size,1])\n",
    "    \n",
    "        layer = children(self.model)[layer]\n",
    "        activations = SaveFeatures(layer)  # register hook\n",
    "\n",
    "        for i in range(upscaling_steps):  # scale the image up upscaling_steps times\n",
    "            train_tfms, val_tfms = tfms_from_model(vgg16, sz)\n",
    "            img_var = V(val_tfms(img)[None], requires_grad=True)  # convert image to Variable that requires grad\n",
    "            optimizer = torch.optim.Adam([img_var], lr=lr, weight_decay=1e-6)\n",
    "            if i > upscaling_steps/2:\n",
    "                opt_steps_ = int(opt_steps*1.3)\n",
    "            else:\n",
    "                opt_steps_ = opt_steps\n",
    "            for n in range(opt_steps_):  # optimize pixel values for opt_steps times\n",
    "                optimizer.zero_grad()\n",
    "                self.model(img_var)\n",
    "                loss = -activations.features[0, filter].mean()\n",
    "                if print_losses:\n",
    "                    if i%3==0 and n%5==0:\n",
    "                        print(f'{i} - {n} - {float(loss)}')\n",
    "                loss.backward()\n",
    "                optimizer.step()\n",
    "            img = val_tfms.denorm(np.rollaxis(to_np(img_var.data),1,4))[0]\n",
    "            self.output = img\n",
    "            sz = int(upscaling_factor * sz)  # calculate new image size\n",
    "            img = cv2.resize(img, (sz, sz), interpolation = cv2.INTER_CUBIC)  # scale image up\n",
    "            if blur is not None: img = cv2.blur(img,(blur,blur))  # blur image to reduce high frequency patterns\n",
    "        if save:\n",
    "            self.save(layer, filter)\n",
    "        activations.close()\n",
    "        return np.clip(self.output, 0, 1)\n",
    "    \n",
    "    def most_activated(self, image, layer, limit_top=None):\n",
    "\n",
    "        train_tfms, val_tfms = tfms_from_model(vgg16, 224)\n",
    "        transformed = val_tfms(image)\n",
    "#         set_trace()\n",
    "        layer = children(self.model)[layer]\n",
    "        activations = SaveFeatures(layer)  # register hook\n",
    "        self.model(V(transformed)[None]);\n",
    "        #         set_trace()\n",
    "        print(activations.features.shape)\n",
    "        #         set_trace()\n",
    "        mean_act = [activations.features[0,i].mean().data.cpu().numpy()[0] for i in range(activations.features.shape[1])]\n",
    "        activations.close()\n",
    "        return mean_act\n",
    "        \n",
    "    def get_transformed_img(self,img,sz):\n",
    "        train_tfms, val_tfms = tfms_from_model(resnet34, sz)\n",
    "        return val_tfms.denorm(np.rollaxis(to_np(val_tfms(img)[None]),1,4))[0]"
   ]
  },
  {
   "cell_type": "code",
   "execution_count": 8,
   "metadata": {},
   "outputs": [],
   "source": [
    "FV = FilterVisualizer()"
   ]
  },
  {
   "cell_type": "code",
   "execution_count": 9,
   "metadata": {},
   "outputs": [
    {
     "data": {
      "text/plain": [
       "Sequential(\n",
       "  (0): Conv2d(3, 64, kernel_size=(3, 3), stride=(1, 1), padding=(1, 1))\n",
       "  (1): BatchNorm2d(64, eps=1e-05, momentum=0.1, affine=True)\n",
       "  (2): ReLU(inplace)\n",
       "  (3): Conv2d(64, 64, kernel_size=(3, 3), stride=(1, 1), padding=(1, 1))\n",
       "  (4): BatchNorm2d(64, eps=1e-05, momentum=0.1, affine=True)\n",
       "  (5): ReLU(inplace)\n",
       "  (6): MaxPool2d(kernel_size=(2, 2), stride=(2, 2), dilation=(1, 1), ceil_mode=False)\n",
       "  (7): Conv2d(64, 128, kernel_size=(3, 3), stride=(1, 1), padding=(1, 1))\n",
       "  (8): BatchNorm2d(128, eps=1e-05, momentum=0.1, affine=True)\n",
       "  (9): ReLU(inplace)\n",
       "  (10): Conv2d(128, 128, kernel_size=(3, 3), stride=(1, 1), padding=(1, 1))\n",
       "  (11): BatchNorm2d(128, eps=1e-05, momentum=0.1, affine=True)\n",
       "  (12): ReLU(inplace)\n",
       "  (13): MaxPool2d(kernel_size=(2, 2), stride=(2, 2), dilation=(1, 1), ceil_mode=False)\n",
       "  (14): Conv2d(128, 256, kernel_size=(3, 3), stride=(1, 1), padding=(1, 1))\n",
       "  (15): BatchNorm2d(256, eps=1e-05, momentum=0.1, affine=True)\n",
       "  (16): ReLU(inplace)\n",
       "  (17): Conv2d(256, 256, kernel_size=(3, 3), stride=(1, 1), padding=(1, 1))\n",
       "  (18): BatchNorm2d(256, eps=1e-05, momentum=0.1, affine=True)\n",
       "  (19): ReLU(inplace)\n",
       "  (20): Conv2d(256, 256, kernel_size=(3, 3), stride=(1, 1), padding=(1, 1))\n",
       "  (21): BatchNorm2d(256, eps=1e-05, momentum=0.1, affine=True)\n",
       "  (22): ReLU(inplace)\n",
       "  (23): MaxPool2d(kernel_size=(2, 2), stride=(2, 2), dilation=(1, 1), ceil_mode=False)\n",
       "  (24): Conv2d(256, 512, kernel_size=(3, 3), stride=(1, 1), padding=(1, 1))\n",
       "  (25): BatchNorm2d(512, eps=1e-05, momentum=0.1, affine=True)\n",
       "  (26): ReLU(inplace)\n",
       "  (27): Conv2d(512, 512, kernel_size=(3, 3), stride=(1, 1), padding=(1, 1))\n",
       "  (28): BatchNorm2d(512, eps=1e-05, momentum=0.1, affine=True)\n",
       "  (29): ReLU(inplace)\n",
       "  (30): Conv2d(512, 512, kernel_size=(3, 3), stride=(1, 1), padding=(1, 1))\n",
       "  (31): BatchNorm2d(512, eps=1e-05, momentum=0.1, affine=True)\n",
       "  (32): ReLU(inplace)\n",
       "  (33): MaxPool2d(kernel_size=(2, 2), stride=(2, 2), dilation=(1, 1), ceil_mode=False)\n",
       "  (34): Conv2d(512, 512, kernel_size=(3, 3), stride=(1, 1), padding=(1, 1))\n",
       "  (35): BatchNorm2d(512, eps=1e-05, momentum=0.1, affine=True)\n",
       "  (36): ReLU(inplace)\n",
       "  (37): Conv2d(512, 512, kernel_size=(3, 3), stride=(1, 1), padding=(1, 1))\n",
       "  (38): BatchNorm2d(512, eps=1e-05, momentum=0.1, affine=True)\n",
       "  (39): ReLU(inplace)\n",
       "  (40): Conv2d(512, 512, kernel_size=(3, 3), stride=(1, 1), padding=(1, 1))\n",
       "  (41): BatchNorm2d(512, eps=1e-05, momentum=0.1, affine=True)\n",
       "  (42): ReLU(inplace)\n",
       "  (43): MaxPool2d(kernel_size=(2, 2), stride=(2, 2), dilation=(1, 1), ceil_mode=False)\n",
       ")"
      ]
     },
     "execution_count": 9,
     "metadata": {},
     "output_type": "execute_result"
    }
   ],
   "source": [
    "FV.model"
   ]
  },
  {
   "cell_type": "code",
   "execution_count": 35,
   "metadata": {},
   "outputs": [],
   "source": [
    "import requests\n",
    "import base64\n",
    "import pprint"
   ]
  },
  {
   "cell_type": "code",
   "execution_count": null,
   "metadata": {},
   "outputs": [],
   "source": []
  },
  {
   "cell_type": "code",
   "execution_count": null,
   "metadata": {},
   "outputs": [],
   "source": []
  },
  {
   "cell_type": "code",
   "execution_count": 41,
   "metadata": {},
   "outputs": [],
   "source": [
    "def plot_reconstructions(imgs,layer_idx,filters,n_cols=3, cell_size=4, save_fig=False,album_hash=None):\n",
    "    n_rows = ceil((len(imgs))/n_cols)\n",
    "\n",
    "    fig,axes = plt.subplots(n_rows,n_cols, figsize=(cell_size*n_cols,cell_size*n_rows))\n",
    "          \n",
    "    for i,ax in enumerate(axes.flat):\n",
    "        ax.grid(False)\n",
    "        ax.get_xaxis().set_visible(False)\n",
    "        ax.get_yaxis().set_visible(False)\n",
    "\n",
    "        if i>=len(filters):\n",
    "            pass\n",
    "\n",
    "        ax.set_title(f'fmap {filters[i]}')\n",
    "\n",
    "        ax.imshow(imgs[i])\n",
    "    fig.suptitle(f'VGG16 Layer: {layer_idx} : {children(FV.model)[layer_idx]}', fontsize=\"x-large\",y=1.0)\n",
    "    plt.tight_layout()\n",
    "    plt.subplots_adjust(top=0.9)\n",
    "    if save_fig:\n",
    "        fn = f'vgg16_layer_{layer_idx}_fmaps_{\"_\".join([str(f) for f in filters])}.png'\n",
    "        plt.savefig(fn)\n",
    "    #    link = upload_to_imgur(f'vgg16_layer_{layer_idx}_fmaps_{\"_\".join([str(f) for f in filters])}.png',\n",
    "     #                   f'vgg16_layer_{layer_idx}_fmaps_{\"_\".join([str(f) for f in filters])}',album_hash)\n",
    "        plt.close()\n",
    "        return fn#link\n",
    "    else:\n",
    "        plt.show()\n",
    "        return None"
   ]
  },
  {
   "cell_type": "code",
   "execution_count": 42,
   "metadata": {},
   "outputs": [],
   "source": [
    "def reconstructions(layer_idx, filters,\n",
    "                    init_size=56, upscaling_steps=12, \n",
    "                    upscaling_factor=1.2, \n",
    "                    opt_steps=20, blur=5,\n",
    "                    lr=1e-1,print_losses=False,\n",
    "                    n_cols=3, cell_size=4,\n",
    "                    save_fig=False,\n",
    "                    album_hash=None):\n",
    "    \n",
    "    if save_fig:\n",
    "        assert not album_hash is None\n",
    "    imgs = []\n",
    "    for filter in filters:\n",
    "        imgs.append(FV.visualize(init_size,layer_idx, filter, \n",
    "                                 upscaling_steps=upscaling_steps, \n",
    "                                 upscaling_factor=upscaling_factor, \n",
    "                                 opt_steps=opt_steps, blur=blur,\n",
    "                                 lr=lr,print_losses=print_losses))\n",
    "        \n",
    "    return plot_reconstructions(imgs,layer_idx,filters,\n",
    "                         n_cols=n_cols,cell_size=cell_size,\n",
    "                         save_fig=save_fig,album_hash=album_hash)"
   ]
  },
  {
   "cell_type": "code",
   "execution_count": 43,
   "metadata": {},
   "outputs": [
    {
     "name": "stdout",
     "output_type": "stream",
     "text": [
      "vgg16_layer_7_fmaps_0_1_2.png\n"
     ]
    },
    {
     "data": {
      "text/plain": [
       "'vgg16_layer_7_fmaps_0_1_2.png'"
      ]
     },
     "metadata": {},
     "output_type": "display_data"
    }
   ],
   "source": [
    "#url = reconstructions(layer_idx=7,filters=list(range(0,3)),\n",
    "fn = reconstructions(layer_idx=7,filters=list(range(0,3)),\n",
    "                save_fig=True,album_hash=\"A5KpYOz\")\n",
    "print(fn)\n",
    "imshow(fn)\n",
    "#display(HTML(f\"<img src={url} />\"))\n",
    "\n",
    "\n"
   ]
  },
  {
   "cell_type": "code",
   "execution_count": null,
   "metadata": {},
   "outputs": [],
   "source": []
  },
  {
   "cell_type": "code",
   "execution_count": 46,
   "metadata": {},
   "outputs": [
    {
     "name": "stdout",
     "output_type": "stream",
     "text": [
      "vgg16_layer_10_fmaps_24_25_26_27_28_29.png\n"
     ]
    }
   ],
   "source": [
    "#url = reconstructions(layer_idx=10,filters=list(range(24,30)),\n",
    "fn = reconstructions(layer_idx=10,filters=list(range(24,30)),\n",
    "                save_fig=True,album_hash=\"A5KpYOz\")\n",
    "\n",
    "print(fn)\n",
    "#display(HTML(f\"<img src={url} />\"))"
   ]
  },
  {
   "cell_type": "code",
   "execution_count": 48,
   "metadata": {},
   "outputs": [
    {
     "name": "stdout",
     "output_type": "stream",
     "text": [
      "vgg16_layer_40_fmaps_31_32_33_34_35_36_37_38_39.png\n"
     ]
    }
   ],
   "source": [
    "fn = reconstructions(layer_idx=40,filters=list(range(31,40)),\n",
    "                save_fig=True,album_hash=\"A5KpYOz\")\n",
    "\n",
    "print(fn)\n",
    "#display(HTML(f\"<img src={url} />\"))"
   ]
  },
  {
   "cell_type": "code",
   "execution_count": null,
   "metadata": {},
   "outputs": [],
   "source": []
  }
 ],
 "metadata": {
  "kernelspec": {
   "display_name": "Python 3",
   "language": "python",
   "name": "python3"
  },
  "language_info": {
   "codemirror_mode": {
    "name": "ipython",
    "version": 3
   },
   "file_extension": ".py",
   "mimetype": "text/x-python",
   "name": "python",
   "nbconvert_exporter": "python",
   "pygments_lexer": "ipython3",
   "version": "3.6.8"
  }
 },
 "nbformat": 4,
 "nbformat_minor": 2
}
